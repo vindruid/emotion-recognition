{
 "cells": [
  {
   "cell_type": "code",
   "execution_count": 1,
   "metadata": {},
   "outputs": [
    {
     "name": "stderr",
     "output_type": "stream",
     "text": [
      "Using TensorFlow backend.\n"
     ]
    }
   ],
   "source": [
    "import numpy as np\n",
    "import cv2\n",
    "from keras.preprocessing import image\n",
    "from keras.models import model_from_json\n",
    "\n",
    "#-----------------------------\n",
    "#opencv initialization\n",
    "\n",
    "face_cascade = cv2.CascadeClassifier('haarcascade_frontalface_default.xml')\n",
    "\n",
    "cap = cv2.VideoCapture(0)\n",
    "\n",
    "#-----------------------------\n",
    "#face expression recognizer initialization\n",
    "from keras.models import model_from_json\n",
    "model = model_from_json(open(\"model/facial_expression_model_structure.json\", \"r\").read())\n",
    "model.load_weights('model/facial_expression_model_weights.h5') #load weights\n",
    "\n"
   ]
  },
  {
   "cell_type": "code",
   "execution_count": null,
   "metadata": {},
   "outputs": [],
   "source": [
    "#-----------------------------\n",
    "\n",
    "emotions = ('angry', 'disgust', 'fear', 'happy', 'sad', 'surprise', 'neutral')\n",
    "\n",
    "while(True):\n",
    "\tret, img = cap.read()\n",
    "\t#img = cv2.imread('C:/Users/IS96273/Desktop/hababam.jpg')\n",
    "\n",
    "\tgray = cv2.cvtColor(img, cv2.COLOR_BGR2GRAY)\n",
    "\n",
    "\tfaces = face_cascade.detectMultiScale(gray, 1.3, 5)\n",
    "\n",
    "\t#print(faces) #locations of detected faces\n",
    "\n",
    "\tfor (x,y,w,h) in faces:\n",
    "\t\tcv2.rectangle(img,(x,y),(x+w,y+h),(0,255,0),2) #draw rectangle to main image\n",
    "\t\t\n",
    "\t\tdetected_face = img[int(y):int(y+h), int(x):int(x+w)] #crop detected face\n",
    "\t\tdetected_face = cv2.cvtColor(detected_face, cv2.COLOR_BGR2GRAY) #transform to gray scale\n",
    "\t\tdetected_face = cv2.resize(detected_face, (48, 48)) #resize to 48x48\n",
    "\t\t\n",
    "\t\timg_pixels = image.img_to_array(detected_face)\n",
    "\t\timg_pixels = np.expand_dims(img_pixels, axis = 0)\n",
    "\t\t\n",
    "\t\timg_pixels /= 255 #pixels are in scale of [0, 255]. normalize all pixels in scale of [0, 1]\n",
    "\t\t\n",
    "\t\tpredictions = model.predict(img_pixels) #store probabilities of 7 expressions\n",
    "\t\t\n",
    "\t\t#find max indexed array 0: angry, 1:disgust, 2:fear, 3:happy, 4:sad, 5:surprise, 6:neutral\n",
    "\t\tmax_index = np.argmax(predictions[0])\n",
    "\t\t\n",
    "\t\temotion = emotions[max_index]\n",
    "\t\t\n",
    "\t\t#write emotion text above rectangle\n",
    "\t\tcv2.putText(img, emotion, (int(x), int(y)), cv2.FONT_HERSHEY_SIMPLEX, 1, (255,255,255), 2)\n",
    "\t\t\n",
    "\t\t#process on detected face end\n",
    "\t\t#-------------------------\n",
    "\n",
    "\tcv2.imshow('img',img)\n",
    "\n",
    "\tif cv2.waitKey(1) & 0xFF == ord('q'): #press q to quit\n",
    "\t\tbreak\n",
    "\n"
   ]
  },
  {
   "cell_type": "code",
   "execution_count": null,
   "metadata": {},
   "outputs": [],
   "source": [
    "#kill open cv things\t\t\n",
    "cap.release()\n",
    "cv2.destroyAllWindows()"
   ]
  },
  {
   "cell_type": "code",
   "execution_count": null,
   "metadata": {},
   "outputs": [],
   "source": []
  }
 ],
 "metadata": {
  "kernelspec": {
   "display_name": "Python 3",
   "language": "python",
   "name": "python3"
  },
  "language_info": {
   "codemirror_mode": {
    "name": "ipython",
    "version": 3
   },
   "file_extension": ".py",
   "mimetype": "text/x-python",
   "name": "python",
   "nbconvert_exporter": "python",
   "pygments_lexer": "ipython3",
   "version": "3.6.5"
  }
 },
 "nbformat": 4,
 "nbformat_minor": 2
}
